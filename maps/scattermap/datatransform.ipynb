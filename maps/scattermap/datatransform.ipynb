{
 "cells": [
  {
   "cell_type": "code",
   "execution_count": 1,
   "metadata": {},
   "outputs": [],
   "source": [
    "import pandas as pd\n",
    "import geopandas as gpd\n",
    "import string"
   ]
  },
  {
   "cell_type": "code",
   "execution_count": 2,
   "metadata": {},
   "outputs": [],
   "source": [
    "df = pd.read_csv(\"2016_General.csv\")"
   ]
  },
  {
   "cell_type": "code",
   "execution_count": 3,
   "metadata": {},
   "outputs": [],
   "source": [
    "# Select all Race Names in 2016_General.csv\n",
    "selected = df[(df.CounterType == \"Times Counted\")]\n",
    "countdict = {}\n",
    "for race in selected.Race:\n",
    "    countdict.setdefault(race, 0)\n",
    "    countdict[race] += 1\n",
    "    \n",
    "# Find out the number of precincts in the county,\n",
    "# those that aren't \"max\" don't take place in every precinct\n",
    "total_precincts = max(countdict.values())\n",
    "\n",
    "# Select only countywide races\n",
    "county_wide_races = [race for race, count in countdict.items() if count == total_precincts]\n",
    "\n",
    "# Confusingly rename df, but only with countywide_races\n",
    "only_countywide_races = df[df.Race.isin(county_wide_races)]\n",
    "\n",
    "only_countywide_races = only_countywide_races.drop(columns = [\"LEG\", \"CC\", \"CG\", \"CounterGroup\", \"Party\"])\n"
   ]
  },
  {
   "cell_type": "code",
   "execution_count": 4,
   "metadata": {},
   "outputs": [],
   "source": [
    "# Make new column that combines \"Race\" and \"CounterType\", then drop them\n",
    "only_countywide_races[\"Race_Type\"] = only_countywide_races[\"Race\"] + \": \" + only_countywide_races[\"CounterType\"]\n",
    "only_countywide_races = only_countywide_races.drop(columns = [\"Race\", \"CounterType\"])\n",
    "\n",
    "#\n",
    "only_countywide_races = only_countywide_races.pivot(index='Precinct', columns='Race_Type', values='SumOfCount')\n",
    "\n",
    "# New Columns and drop others\n",
    "only_countywide_races[\"Registered_Voters\"] = only_countywide_races[\"Advisory Vote 14: Registered Voters\"]\n",
    "only_countywide_races[\"Total_Voters\"] = only_countywide_races[\"Advisory Vote 14: Times Counted\"]\n",
    "only_countywide_races = only_countywide_races.drop(columns = [column for column in only_countywide_races.columns if \"Registered Voters\" in column]) \n",
    "only_countywide_races = only_countywide_races.drop(columns = [column for column in only_countywide_races.columns if \"Times Counted\" in column]) \n",
    "\n",
    "\n",
    "# Bring two created columns to beginning\n",
    "cols = only_countywide_races.columns.tolist()\n",
    "cols = cols[-2:] + cols[:-2]\n",
    "only_countywide_races = only_countywide_races[cols]\n"
   ]
  },
  {
   "cell_type": "code",
   "execution_count": 5,
   "metadata": {},
   "outputs": [],
   "source": [
    "# a function to shorten field names\n",
    "\n",
    "def encode(n):\n",
    "    ''' Convert integer n to string.ascii_lowercase'''\n",
    "    if n == 0:\n",
    "        return \"a\"\n",
    "    out = []\n",
    "    while n:\n",
    "        n, r = n // 26, n % 26\n",
    "        out.append(string.ascii_lowercase[r])\n",
    "    return ''.join(out)\n",
    "\n",
    "# Create a data_dict so we know what these field names mean\n",
    "cols = only_countywide_races.columns.tolist()\n",
    "data_dict = {column_name: encode(i) for i, column_name in enumerate(cols)}\n",
    "\n",
    "with open(\"data_dictionary.csv\", \"w+\") as fh:\n",
    "    fh.write(\"O.G. value, encoded as\\n\")\n",
    "    for k, v in data_dict.items():\n",
    "        fh.write(f'{k}, {v}\\n')\n"
   ]
  },
  {
   "cell_type": "code",
   "execution_count": 6,
   "metadata": {
    "scrolled": true
   },
   "outputs": [],
   "source": [
    "# Apply our new data_dict to the data, write to csv\n",
    "only_countywide_races = only_countywide_races.rename(index = str, columns = data_dict)\n",
    "only_countywide_races.to_csv(\"csv2016.csv\")"
   ]
  },
  {
   "cell_type": "code",
   "execution_count": 15,
   "metadata": {},
   "outputs": [],
   "source": [
    "#### below here is the auto join.\n",
    "\n",
    "\n",
    "### Thing we have to worry about for our app -- normalization? based on que? More math in JS?!?! aw.\n",
    "## alt. option would be to multiply answer by what will be the divisor in the future!? \n",
    "## But too hacky? also would mess up (numbers). Not a good idea. Sigh.\n",
    "\n",
    "df = pd.read_csv(\"csv2016.csv\")\n",
    "spatial = gpd.read_file(\"KC_Precincts.geojson\")\n",
    "\n",
    "\n",
    "join_csv_to_geojson(csv_dict, geojson_dict):\n",
    "    \"\"\"\n",
    "    Take a dict containing csvs, with key being file_name.csv \n",
    "    and value being \"join on this value\" \n",
    "    \n",
    "    geojson_dict is a dict containing just one k:v :\n",
    "    {\"file_name.geojson\": \"join_on_this_value} \n",
    "    \"\"\"\n",
    "    geojson_file, geojson_join_field = list(geojson_dict.keys())[0]\n",
    "    for csv_file, csv_join_field in csv_dict.items():\n",
    "        pass\n",
    "        # do stuff\n",
    "        \n",
    "#  = spatial.merge(country_names, on='iso_a3')"
   ]
  },
  {
   "cell_type": "code",
   "execution_count": 18,
   "metadata": {},
   "outputs": [
    {
     "name": "stdout",
     "output_type": "stream",
     "text": [
      "NAME\n",
      "geometry\n"
     ]
    }
   ],
   "source": [
    "for column in spatial.columns.tolist():\n",
    "    print(column)"
   ]
  },
  {
   "cell_type": "code",
   "execution_count": 7,
   "metadata": {},
   "outputs": [
    {
     "name": "stdout",
     "output_type": "stream",
     "text": [
      "<option value=\"a;Voters\">Registered_Voters</option>\n",
      "<option value=\"b;Voters\">Total_Voters</option>\n",
      "<option value=\"c;Maintained\">Advisory Vote 14: Maintained</option>\n",
      "<option value=\"d;Repealed\">Advisory Vote 14: Repealed</option>\n",
      "<option value=\"g;Maintained\">Advisory Vote 15: Maintained</option>\n",
      "<option value=\"h;Repealed\">Advisory Vote 15: Repealed</option>\n",
      "<option value=\"k;Bob Ferguson\">Attorney General: Bob Ferguson</option>\n",
      "<option value=\"l;Joshua B. Trumbull\">Attorney General: Joshua B. Trumbull</option>\n",
      "<option value=\"o;Write-In\">Attorney General: Write-In</option>\n",
      "<option value=\"p;Hilary Franz\">Commissioner of Public Lands: Hilary Franz</option>\n",
      "<option value=\"q;Steve McLaughlin\">Commissioner of Public Lands: Steve McLaughlin</option>\n",
      "<option value=\"t;Write-In\">Commissioner of Public Lands: Write-In</option>\n",
      "<option value=\"u;Michael J. Trickey\">Court of Appeals Judge Position 1: Michael J. Trickey</option>\n",
      "<option value=\"x;Write-In\">Court of Appeals Judge Position 1: Write-In</option>\n",
      "<option value=\"y;Bill Bryant\">Governor: Bill Bryant</option>\n",
      "<option value=\"z;Jay Inslee\">Governor: Jay Inslee</option>\n",
      "<option value=\"cb;Write-In\">Governor: Write-In</option>\n",
      "<option value=\"db;No\">Initiative Measure 1433: No</option>\n",
      "<option value=\"gb;Yes\">Initiative Measure 1433: Yes</option>\n",
      "<option value=\"hb;No\">Initiative Measure 1464: No</option>\n",
      "<option value=\"kb;Yes\">Initiative Measure 1464: Yes</option>\n",
      "<option value=\"lb;No\">Initiative Measure 1491: No</option>\n",
      "<option value=\"ob;Yes\">Initiative Measure 1491: Yes</option>\n",
      "<option value=\"pb;No\">Initiative Measure 1501: No</option>\n",
      "<option value=\"sb;Yes\">Initiative Measure 1501: Yes</option>\n",
      "<option value=\"tb;No\">Initiative Measure 732: No</option>\n",
      "<option value=\"wb;Yes\">Initiative Measure 732: Yes</option>\n",
      "<option value=\"xb;No\">Initiative Measure 735: No</option>\n",
      "<option value=\"ac;Yes\">Initiative Measure 735: Yes</option>\n",
      "<option value=\"bc;Mike Kreidler\">Insurance Commissioner: Mike Kreidler</option>\n",
      "<option value=\"cc;Richard Schrock\">Insurance Commissioner: Richard Schrock</option>\n",
      "<option value=\"fc;Write-In\">Insurance Commissioner: Write-In</option>\n",
      "<option value=\"gc;No\">King County Charter Amendment 1: No</option>\n",
      "<option value=\"jc;Yes\">King County Charter Amendment 1: Yes</option>\n",
      "<option value=\"kc;No\">King County Charter Amendment 2: No</option>\n",
      "<option value=\"nc;Yes\">King County Charter Amendment 2: Yes</option>\n",
      "<option value=\"oc;Cyrus Habib\">Lieutenant Governor: Cyrus Habib</option>\n",
      "<option value=\"pc;Marty McClendon\">Lieutenant Governor: Marty McClendon</option>\n",
      "<option value=\"sc;Write-In\">Lieutenant Governor: Write-In</option>\n",
      "<option value=\"tc;Kim Wyman\">Secretary of State: Kim Wyman</option>\n",
      "<option value=\"wc;Tina Podlodowski\">Secretary of State: Tina Podlodowski</option>\n",
      "<option value=\"xc;Write-In\">Secretary of State: Write-In</option>\n",
      "<option value=\"yc;Approved\">Senate Joint Resolution 8210: Approved</option>\n",
      "<option value=\"zc;Rejected\">Senate Joint Resolution 8210: Rejected</option>\n",
      "<option value=\"cd;Mark Miloscia\">State Auditor: Mark Miloscia</option>\n",
      "<option value=\"dd;Pat (Patrice) McCarthy\">State Auditor: Pat (Patrice) McCarthy</option>\n",
      "<option value=\"gd;Write-In\">State Auditor: Write-In</option>\n",
      "<option value=\"hd;David DeWolf\">State Supreme Court Justice Position 1: David DeWolf</option>\n",
      "<option value=\"id;Mary Yu\">State Supreme Court Justice Position 1: Mary Yu</option>\n",
      "<option value=\"ld;Write-In\">State Supreme Court Justice Position 1: Write-In</option>\n",
      "<option value=\"md;Barbara Madsen\">State Supreme Court Justice Position 5: Barbara Madsen</option>\n",
      "<option value=\"nd;Greg Zempel\">State Supreme Court Justice Position 5: Greg Zempel</option>\n",
      "<option value=\"qd;Write-In\">State Supreme Court Justice Position 5: Write-In</option>\n",
      "<option value=\"rd;Charles (Charlie) Wiggins\">State Supreme Court Justice Position 6: Charles (Charlie) Wiggins</option>\n",
      "<option value=\"sd;Dave Larson\">State Supreme Court Justice Position 6: Dave Larson</option>\n",
      "<option value=\"vd;Write-In\">State Supreme Court Justice Position 6: Write-In</option>\n",
      "<option value=\"wd;Duane Davidson\">State Treasurer: Duane Davidson</option>\n",
      "<option value=\"xd;Michael Waite\">State Treasurer: Michael Waite</option>\n",
      "<option value=\"ae;Write-In\">State Treasurer: Write-In</option>\n",
      "<option value=\"be;Chris Reykdal\">Superintendent of Public Instruction: Chris Reykdal</option>\n",
      "<option value=\"ce;Erin Jones\">Superintendent of Public Instruction: Erin Jones</option>\n",
      "<option value=\"fe;Write-In\">Superintendent of Public Instruction: Write-In</option>\n",
      "<option value=\"ge;David Greenspan\">Superior Court Judge Position 14: David Greenspan</option>\n",
      "<option value=\"he;Nicole Gaines Phelps\">Superior Court Judge Position 14: Nicole Gaines Phelps</option>\n",
      "<option value=\"ke;Write-In\">Superior Court Judge Position 14: Write-In</option>\n",
      "<option value=\"le;David Keenan\">Superior Court Judge Position 26: David Keenan</option>\n",
      "<option value=\"me;John H. O'Rourke\">Superior Court Judge Position 26: John H. O'Rourke</option>\n",
      "<option value=\"pe;Write-In\">Superior Court Judge Position 26: Write-In</option>\n",
      "<option value=\"qe;Helen Halpert\">Superior Court Judge Position 31: Helen Halpert</option>\n",
      "<option value=\"re;Marc S. Stern\">Superior Court Judge Position 31: Marc S. Stern</option>\n",
      "<option value=\"ue;Write-In\">Superior Court Judge Position 31: Write-In</option>\n",
      "<option value=\"ve;Cathy Moore\">Superior Court Judge Position 44: Cathy Moore</option>\n",
      "<option value=\"we;Eric Newman\">Superior Court Judge Position 44: Eric Newman</option>\n",
      "<option value=\"ze;Write-In\">Superior Court Judge Position 44: Write-In</option>\n",
      "<option value=\"af;Anthony Gipe\">Superior Court Judge Position 52: Anthony Gipe</option>\n",
      "<option value=\"bf;Kristin Richardson\">Superior Court Judge Position 52: Kristin Richardson</option>\n",
      "<option value=\"ef;Write-In\">Superior Court Judge Position 52: Write-In</option>\n",
      "<option value=\"ff;Mariane Spearman\">Superior Court Judge Position 53: Mariane Spearman</option>\n",
      "<option value=\"gf;Thomas Cline\">Superior Court Judge Position 53: Thomas Cline</option>\n",
      "<option value=\"jf;Write-In\">Superior Court Judge Position 53: Write-In</option>\n",
      "<option value=\"kf;Alyson Kennedy Osborne\">US President & Vice President: Alyson Kennedy & Osborne Hart</option>\n",
      "<option value=\"lf;Darrell L. Castle\">US President & Vice President: Darrell L. Castle & Scott N. Bradley</option>\n",
      "<option value=\"mf;Donald J. Trump\">US President & Vice President: Donald J. Trump & Michael R. Pence</option>\n",
      "<option value=\"nf;Gary Johnson Bill\">US President & Vice President: Gary Johnson & Bill Weld</option>\n",
      "<option value=\"of;Gloria Estela La\">US President & Vice President: Gloria Estela La Riva & Eugene Puryear</option>\n",
      "<option value=\"pf;Hillary Clinton Tim\">US President & Vice President: Hillary Clinton & Tim Kaine</option>\n",
      "<option value=\"qf;Jill Stein Ajamu\">US President & Vice President: Jill Stein & Ajamu Baraka</option>\n",
      "<option value=\"tf;Write-In\">US President & Vice President: Write-In</option>\n",
      "<option value=\"uf;Chris Vance\">US Senator: Chris Vance</option>\n",
      "<option value=\"vf;Patty Murray\">US Senator: Patty Murray</option>\n",
      "<option value=\"yf;Write-In\">US Senator: Write-In</option>\n"
     ]
    }
   ],
   "source": [
    "## A section for writing index.html; all other files to folder\n",
    "# build dropdown option menu\n",
    "for column_name, encoded_value in data_dict.items():\n",
    "    ballot_name = \" \".join(\"\".join(column_name.replace(\"&\",\"\").replace(\"_\",\":\").split(\":\")[1:2]).split()[:3])\n",
    "    if \"Voted\" not in ballot_name: \n",
    "        print(f'<option value=\"{encoded_value};{ballot_name}\">{column_name}</option>')\n",
    "\n"
   ]
  },
  {
   "cell_type": "code",
   "execution_count": null,
   "metadata": {},
   "outputs": [],
   "source": []
  }
 ],
 "metadata": {
  "kernelspec": {
   "display_name": "Python [default]",
   "language": "python",
   "name": "python3"
  },
  "language_info": {
   "codemirror_mode": {
    "name": "ipython",
    "version": 3
   },
   "file_extension": ".py",
   "mimetype": "text/x-python",
   "name": "python",
   "nbconvert_exporter": "python",
   "pygments_lexer": "ipython3",
   "version": "3.6.4"
  }
 },
 "nbformat": 4,
 "nbformat_minor": 1
}
